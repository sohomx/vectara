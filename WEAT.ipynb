{
 "cells": [
  {
   "cell_type": "code",
   "execution_count": 1,
   "metadata": {},
   "outputs": [],
   "source": [
    "import numpy as np "
   ]
  },
  {
   "cell_type": "code",
   "execution_count": 2,
   "metadata": {},
   "outputs": [],
   "source": [
    "#let's define the sets\n",
    "X = ['doctor', 'engineer', 'scientist']\n",
    "Y = ['nurse', 'teacher', 'receptionist']\n",
    "A = ['man', 'male', 'boy']\n",
    "B = ['woman', 'female', 'girl']"
   ]
  },
  {
   "cell_type": "code",
   "execution_count": 4,
   "metadata": {},
   "outputs": [],
   "source": [
    "word_embeddings = {\n",
    "    'doctor': np.array([0.1, 0.3, 0.5]),\n",
    "    'engineer': np.array([0.2, 0.4, 0.2]),\n",
    "    'scientist': np.array([0.3, 0.1, 0.4]),\n",
    "    'nurse': np.array([0.5, 0.1, 0.3]),\n",
    "    'teacher': np.array([0.4, 0.2, 0.1]),\n",
    "    'receptionist': np.array([0.3, 0.4, 0.3]),\n",
    "    'man': np.array([0.5, 0.5, 0.5]),\n",
    "    'male': np.array([0.5, 0.4, 0.5]),\n",
    "    'boy': np.array([0.5, 0.5, 0.4]),\n",
    "    'woman': np.array([0.5, 0.2, 0.3]),\n",
    "    'female': np.array([0.5, 0.3, 0.3]),\n",
    "    'girl': np.array([0.5, 0.3, 0.4])\n",
    "}"
   ]
  },
  {
   "cell_type": "code",
   "execution_count": 5,
   "metadata": {},
   "outputs": [],
   "source": [
    "from sklearn.metrics.pairwise import cosine_similarity"
   ]
  },
  {
   "cell_type": "code",
   "execution_count": 6,
   "metadata": {},
   "outputs": [],
   "source": [
    "def s(w, X, Y):\n",
    "    sim_x = np.mean([cosine_similarity(word_embeddings[w].reshape(1, -1), word_embeddings[x].reshape(1, -1)) for x in X])\n",
    "    sim_y = np.mean([cosine_similarity(word_embeddings[w].reshape(1, -1), word_embeddings[y].reshape(1, -1)) for y in Y])\n",
    "    return sim_x - sim_y"
   ]
  },
  {
   "cell_type": "code",
   "execution_count": 7,
   "metadata": {},
   "outputs": [],
   "source": [
    "WEAT_score = sum([s(a, X, Y) for a in A]) - sum([s(b, X, Y) for b in B])"
   ]
  },
  {
   "cell_type": "code",
   "execution_count": 8,
   "metadata": {},
   "outputs": [
    {
     "name": "stdout",
     "output_type": "stream",
     "text": [
      "0.25109671349724294\n"
     ]
    }
   ],
   "source": [
    "print(WEAT_score)"
   ]
  },
  {
   "cell_type": "markdown",
   "metadata": {},
   "source": [
    "# Demographic Diversity Analysis"
   ]
  },
  {
   "cell_type": "code",
   "execution_count": 9,
   "metadata": {},
   "outputs": [],
   "source": [
    "from sklearn.metrics import accuracy_score"
   ]
  },
  {
   "cell_type": "code",
   "execution_count": 10,
   "metadata": {},
   "outputs": [],
   "source": [
    "# Sample questions and the correct answers\n",
    "questions = {\n",
    "    \"What's the capital of France?\": \"Paris\",\n",
    "    \"Which gas do plants take in during photosynthesis?\": \"Carbon dioxide\",\n",
    "    \"Who wrote Romeo and Juliet?\": \"William Shakespeare\",\n",
    "    \"In which year did World War II end?\": \"1945\",\n",
    "    \"How many sides does a hexagon have?\": \"6\"\n",
    "}\n",
    "\n",
    "# Hypothetical responses from the LLM for native and non-native speakers\n",
    "native_responses = {\n",
    "    \"What's the capital of France?\": \"Paris\",\n",
    "    \"Which gas do plants take in during photosynthesis?\": \"Carbon dioxide\",\n",
    "    \"Who wrote Romeo and Juliet?\": \"Shakespeare\",\n",
    "    \"In which year did World War II end?\": \"1945\",\n",
    "    \"How many sides does a hexagon have?\": \"Six\"\n",
    "}\n",
    "\n",
    "non_native_responses = {\n",
    "    \"What's the capital of France?\": \"Paris\",\n",
    "    \"Which gas do plants take in during photosynthesis?\": \"Oxygen\",\n",
    "    \"Who wrote Romeo and Juliet?\": \"Shakespeare\",\n",
    "    \"In which year did World War II end?\": \"1944\",\n",
    "    \"How many sides does a hexagon have?\": \"Six\"\n",
    "}"
   ]
  },
  {
   "cell_type": "code",
   "execution_count": 11,
   "metadata": {},
   "outputs": [
    {
     "name": "stdout",
     "output_type": "stream",
     "text": [
      "Accuracy for native English speakers: 0.60\n",
      "Accuracy for non-native English speakers: 0.20\n"
     ]
    }
   ],
   "source": [
    "def evaluate_responses(correct_answers, responses):\n",
    "    correct_count = sum([1 for q, a in correct_answers.items() if responses[q] == a])\n",
    "    accuracy = correct_count / len(correct_answers)\n",
    "    return accuracy\n",
    "\n",
    "native_accuracy = evaluate_responses(questions, native_responses)\n",
    "non_native_accuracy = evaluate_responses(questions, non_native_responses)\n",
    "\n",
    "print(f\"Accuracy for native English speakers: {native_accuracy:.2f}\")\n",
    "print(f\"Accuracy for non-native English speakers: {non_native_accuracy:.2f}\")"
   ]
  }
 ],
 "metadata": {
  "kernelspec": {
   "display_name": "venv",
   "language": "python",
   "name": "python3"
  },
  "language_info": {
   "codemirror_mode": {
    "name": "ipython",
    "version": 3
   },
   "file_extension": ".py",
   "mimetype": "text/x-python",
   "name": "python",
   "nbconvert_exporter": "python",
   "pygments_lexer": "ipython3",
   "version": "3.11.5"
  }
 },
 "nbformat": 4,
 "nbformat_minor": 2
}
